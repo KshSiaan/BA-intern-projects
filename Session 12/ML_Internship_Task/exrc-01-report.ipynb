{
 "cells": [
  {
   "cell_type": "markdown",
   "metadata": {},
   "source": [
    "### Getting started"
   ]
  },
  {
   "cell_type": "markdown",
   "metadata": {},
   "source": [
    "# Numpy Section"
   ]
  },
  {
   "cell_type": "code",
   "execution_count": 4,
   "metadata": {},
   "outputs": [],
   "source": [
    "import numpy as np\n",
    "import pandas as pd\n",
    "import matplotlib.pyplot as plt\n",
    "import matplotlib as mpl\n",
    "df = pd.read_csv('weather_2020-11.csv')"
   ]
  },
  {
   "cell_type": "markdown",
   "metadata": {},
   "source": [
    "### Preparing function for DRY (Dont repeat yourself)"
   ]
  },
  {
   "cell_type": "code",
   "execution_count": 5,
   "metadata": {},
   "outputs": [],
   "source": [
    "from termcolor import colored\n",
    "# Why not get a good visual?\n",
    "def printer(label, array):\n",
    "    array = array.astype(float)\n",
    "    min_val = np.nanmin(array)\n",
    "    max_val = np.nanmax(array)\n",
    "    median_val = np.nanmedian(array)\n",
    "\n",
    "    print(colored(\"=\"*40, \"cyan\"))\n",
    "    print(colored(f\"   {label} Statistics\", \"cyan\"))\n",
    "    print(colored(\"=\"*40, \"cyan\"))\n",
    "    print(colored(\"  Minimum:\", \"green\"), min_val)\n",
    "    print(colored(\"  Maximum:\", \"yellow\"), max_val)\n",
    "    print(colored(\"  Median:\", \"magenta\"), median_val)\n",
    "    print(colored(\"=\"*40, \"cyan\"))"
   ]
  },
  {
   "cell_type": "code",
   "execution_count": 6,
   "metadata": {},
   "outputs": [],
   "source": [
    "# Extract hour\n",
    "df['Time'] = pd.to_datetime(df['Time'])\n",
    "\n",
    "# Extract the hour component\n",
    "df['Hour'] = df['Time'].dt.hour"
   ]
  },
  {
   "cell_type": "code",
   "execution_count": 7,
   "metadata": {},
   "outputs": [],
   "source": [
    "def maxHourFinder(label,h,v):\n",
    "    hourVal = np.array([h, v])\n",
    "    max_temp_index = np.argmax(v)\n",
    "    max_hour = h[max_temp_index]\n",
    "    max_temp = v[max_temp_index] \n",
    "    print(\"Hour when maximum\",label,\"occurred:\", max_hour)"
   ]
  },
  {
   "cell_type": "markdown",
   "metadata": {},
   "source": [
    "## Temperature average"
   ]
  },
  {
   "cell_type": "code",
   "execution_count": 8,
   "metadata": {},
   "outputs": [
    {
     "name": "stdout",
     "output_type": "stream",
     "text": [
      "\u001b[36m========================================\u001b[0m\n",
      "\u001b[36m   Temperature Statistics\u001b[0m\n",
      "\u001b[36m========================================\u001b[0m\n",
      "\u001b[32m  Minimum:\u001b[0m -9.1\n",
      "\u001b[33m  Maximum:\u001b[0m 11.1\n",
      "\u001b[35m  Median:\u001b[0m 2.7\n",
      "\u001b[36m========================================\u001b[0m\n",
      "Hour when maximum temperature occurred: 18\n"
     ]
    }
   ],
   "source": [
    "ta = df[df['ParameterName'].str.contains('TA_PT1H')]\n",
    "parameter_values = ta['ParameterValue'].to_numpy()\n",
    "\n",
    "printer(\"Temperature\", parameter_values)\n",
    "\n",
    "parameter_hours = ta['Hour'].to_numpy()\n",
    "maxHourFinder(\"temperature\",parameter_hours,parameter_values)"
   ]
  },
  {
   "cell_type": "markdown",
   "metadata": {},
   "source": [
    "## Wind Speed"
   ]
  },
  {
   "cell_type": "code",
   "execution_count": 9,
   "metadata": {},
   "outputs": [
    {
     "name": "stdout",
     "output_type": "stream",
     "text": [
      "\u001b[36m========================================\u001b[0m\n",
      "\u001b[36m   Wind Speed Statistics\u001b[0m\n",
      "\u001b[36m========================================\u001b[0m\n",
      "\u001b[32m  Minimum:\u001b[0m 0.1\n",
      "\u001b[33m  Maximum:\u001b[0m 12.3\n",
      "\u001b[35m  Median:\u001b[0m 3.7\n",
      "\u001b[36m========================================\u001b[0m\n",
      "Hour when maximum wind speed occurred: 13\n"
     ]
    }
   ],
   "source": [
    "ta = df[df['ParameterName'].str.contains('WS_PT1H')]\n",
    "parameter_values = ta['ParameterValue'].to_numpy()\n",
    "\n",
    "printer(\"Wind Speed\", parameter_values)\n",
    "\n",
    "parameter_hours = ta['Hour'].to_numpy()\n",
    "maxHourFinder(\"wind speed\",parameter_hours,parameter_values)"
   ]
  },
  {
   "cell_type": "markdown",
   "metadata": {},
   "source": [
    "## Relative Humidity"
   ]
  },
  {
   "cell_type": "code",
   "execution_count": 10,
   "metadata": {},
   "outputs": [],
   "source": [
    "def convert_to_float(value):\n",
    "    try:\n",
    "        return float(value)\n",
    "    except ValueError:\n",
    "        return np.nan  #Removing strings"
   ]
  },
  {
   "cell_type": "code",
   "execution_count": 11,
   "metadata": {},
   "outputs": [
    {
     "name": "stdout",
     "output_type": "stream",
     "text": [
      "\u001b[36m========================================\u001b[0m\n",
      "\u001b[36m   Relative Humidity Statistics\u001b[0m\n",
      "\u001b[36m========================================\u001b[0m\n",
      "\u001b[32m  Minimum:\u001b[0m 61.0\n",
      "\u001b[33m  Maximum:\u001b[0m 100.0\n",
      "\u001b[35m  Median:\u001b[0m 89.0\n",
      "\u001b[36m========================================\u001b[0m\n",
      "Hour when maximum temperature occurred: 20\n"
     ]
    }
   ],
   "source": [
    "ta = df[df['ParameterName'].str.contains('RH_PT1H')]\n",
    "parameter_values = ta['ParameterValue'].to_numpy()\n",
    "printer(\"Relative Humidity\", np.array([convert_to_float(value) for value in parameter_values]))\n",
    "\n",
    "parameter_hours = ta['Hour'].to_numpy()\n",
    "maxHourFinder(\"temperature\",parameter_hours,np.array([convert_to_float(value) for value in parameter_values]))"
   ]
  },
  {
   "cell_type": "markdown",
   "metadata": {},
   "source": [
    "## Wind Direction"
   ]
  },
  {
   "cell_type": "code",
   "execution_count": 12,
   "metadata": {},
   "outputs": [
    {
     "name": "stdout",
     "output_type": "stream",
     "text": [
      "\u001b[36m========================================\u001b[0m\n",
      "\u001b[36m   Wind Direction Statistics\u001b[0m\n",
      "\u001b[36m========================================\u001b[0m\n",
      "\u001b[32m  Minimum:\u001b[0m 4.0\n",
      "\u001b[33m  Maximum:\u001b[0m 359.0\n",
      "\u001b[35m  Median:\u001b[0m 188.0\n",
      "\u001b[36m========================================\u001b[0m\n",
      "Hour when maximum wind speed occurred: 16\n"
     ]
    }
   ],
   "source": [
    "ta = df[df['ParameterName'].str.contains('WD_PT1H')]\n",
    "parameter_values = ta['ParameterValue'].to_numpy()\n",
    "\n",
    "printer('Wind Direction', parameter_values)\n",
    "\n",
    "parameter_hours = ta['Hour'].to_numpy()\n",
    "maxHourFinder(\"wind speed\",parameter_hours,parameter_values)"
   ]
  },
  {
   "cell_type": "markdown",
   "metadata": {},
   "source": [
    "## Precipitation Amount"
   ]
  },
  {
   "cell_type": "code",
   "execution_count": 13,
   "metadata": {},
   "outputs": [
    {
     "name": "stdout",
     "output_type": "stream",
     "text": [
      "\u001b[36m========================================\u001b[0m\n",
      "\u001b[36m   Precipitation Amount Statistics\u001b[0m\n",
      "\u001b[36m========================================\u001b[0m\n",
      "\u001b[32m  Minimum:\u001b[0m nan\n",
      "\u001b[33m  Maximum:\u001b[0m nan\n",
      "\u001b[35m  Median:\u001b[0m nan\n",
      "\u001b[36m========================================\u001b[0m\n",
      "Hour when maximum temperature occurred: 0\n"
     ]
    }
   ],
   "source": [
    "import warnings\n",
    "\n",
    "ta = df[df['ParameterName'].str.contains('PRA_PT1H')]\n",
    "parameter_values = ta['ParameterValue'].to_numpy()\n",
    "\n",
    "#Since PRA values holds NaNs only\n",
    "with warnings.catch_warnings():\n",
    "    warnings.simplefilter(\"ignore\", category=RuntimeWarning)\n",
    "    printer(\"Precipitation Amount\", np.array([convert_to_float(value) for value in parameter_values]))\n",
    "\n",
    "parameter_hours = ta['Hour'].to_numpy()\n",
    "maxHourFinder(\"temperature\",parameter_hours,np.array([convert_to_float(value) for value in parameter_values]))\n"
   ]
  },
  {
   "cell_type": "markdown",
   "metadata": {},
   "source": [
    "## Precipitation Intensity"
   ]
  },
  {
   "cell_type": "code",
   "execution_count": 14,
   "metadata": {},
   "outputs": [
    {
     "name": "stdout",
     "output_type": "stream",
     "text": [
      "\u001b[36m========================================\u001b[0m\n",
      "\u001b[36m   Precipitation Intensity Statistics\u001b[0m\n",
      "\u001b[36m========================================\u001b[0m\n",
      "\u001b[32m  Minimum:\u001b[0m nan\n",
      "\u001b[33m  Maximum:\u001b[0m nan\n",
      "\u001b[35m  Median:\u001b[0m nan\n",
      "\u001b[36m========================================\u001b[0m\n",
      "Hour when maximum temperature occurred: 0\n"
     ]
    }
   ],
   "source": [
    "ta = df[df['ParameterName'].str.contains('PRI_PT1H')]\n",
    "parameter_values = ta['ParameterValue'].to_numpy()\n",
    "#Since PRI values holds NaNs only\n",
    "with warnings.catch_warnings():\n",
    "    warnings.simplefilter(\"ignore\", category=RuntimeWarning)\n",
    "    printer(\"Precipitation Intensity\", np.array([convert_to_float(value) for value in parameter_values]))\n",
    "    \n",
    "parameter_hours = ta['Hour'].to_numpy()\n",
    "maxHourFinder(\"temperature\",parameter_hours,np.array([convert_to_float(value) for value in parameter_values]))"
   ]
  },
  {
   "cell_type": "markdown",
   "metadata": {},
   "source": [
    "## Most Significant Weather Code"
   ]
  },
  {
   "cell_type": "code",
   "execution_count": 15,
   "metadata": {},
   "outputs": [
    {
     "name": "stdout",
     "output_type": "stream",
     "text": [
      "\u001b[36m========================================\u001b[0m\n",
      "\u001b[36m   Precipitation Intensity Statistics\u001b[0m\n",
      "\u001b[36m========================================\u001b[0m\n",
      "\u001b[32m  Minimum:\u001b[0m nan\n",
      "\u001b[33m  Maximum:\u001b[0m nan\n",
      "\u001b[35m  Median:\u001b[0m nan\n",
      "\u001b[36m========================================\u001b[0m\n",
      "Hour when maximum temperature occurred: 0\n"
     ]
    }
   ],
   "source": [
    "ta = df[df['ParameterName'].str.contains('WAWA_PT1H')]\n",
    "parameter_values = ta['ParameterValue'].to_numpy()\n",
    "#Since WAWA values holds NaNs and str only\n",
    "with warnings.catch_warnings():\n",
    "    warnings.simplefilter(\"ignore\", category=RuntimeWarning)\n",
    "    printer(\"Precipitation Intensity\", np.array([convert_to_float(value) for value in parameter_values]))\n",
    "    \n",
    "parameter_hours = ta['Hour'].to_numpy()\n",
    "maxHourFinder(\"temperature\",parameter_hours,np.array([convert_to_float(value) for value in parameter_values]))"
   ]
  },
  {
   "cell_type": "markdown",
   "metadata": {},
   "source": [
    "# Matplotlib Visualization"
   ]
  },
  {
   "cell_type": "code",
   "execution_count": 16,
   "metadata": {},
   "outputs": [
    {
     "ename": "ValueError",
     "evalue": "could not convert string to float: 'test'",
     "output_type": "error",
     "traceback": [
      "\u001b[1;31m---------------------------------------------------------------------------\u001b[0m",
      "\u001b[1;31mValueError\u001b[0m                                Traceback (most recent call last)",
      "Cell \u001b[1;32mIn[16], line 15\u001b[0m\n\u001b[0;32m     13\u001b[0m \u001b[38;5;66;03m# Extracting average relative humidity values\u001b[39;00m\n\u001b[0;32m     14\u001b[0m rh_avg \u001b[38;5;241m=\u001b[39m df[df[\u001b[38;5;124m'\u001b[39m\u001b[38;5;124mParameterName\u001b[39m\u001b[38;5;124m'\u001b[39m] \u001b[38;5;241m==\u001b[39m \u001b[38;5;124m'\u001b[39m\u001b[38;5;124mRH_PT1H_AVG\u001b[39m\u001b[38;5;124m'\u001b[39m]\n\u001b[1;32m---> 15\u001b[0m rh_avg_values \u001b[38;5;241m=\u001b[39m \u001b[43mrh_avg\u001b[49m\u001b[43m[\u001b[49m\u001b[38;5;124;43m'\u001b[39;49m\u001b[38;5;124;43mParameterValue\u001b[39;49m\u001b[38;5;124;43m'\u001b[39;49m\u001b[43m]\u001b[49m\u001b[38;5;241;43m.\u001b[39;49m\u001b[43mastype\u001b[49m\u001b[43m(\u001b[49m\u001b[38;5;28;43mfloat\u001b[39;49m\u001b[43m)\u001b[49m\u001b[38;5;241m.\u001b[39mto_numpy()\n\u001b[0;32m     17\u001b[0m \u001b[38;5;66;03m# Extracting average wind speed values\u001b[39;00m\n\u001b[0;32m     18\u001b[0m ws_avg \u001b[38;5;241m=\u001b[39m df[df[\u001b[38;5;124m'\u001b[39m\u001b[38;5;124mParameterName\u001b[39m\u001b[38;5;124m'\u001b[39m] \u001b[38;5;241m==\u001b[39m \u001b[38;5;124m'\u001b[39m\u001b[38;5;124mWS_PT1H_AVG\u001b[39m\u001b[38;5;124m'\u001b[39m]\n",
      "File \u001b[1;32mc:\\Users\\ekbal\\AppData\\Local\\Programs\\Python\\Python310\\lib\\site-packages\\pandas\\core\\generic.py:6240\u001b[0m, in \u001b[0;36mNDFrame.astype\u001b[1;34m(self, dtype, copy, errors)\u001b[0m\n\u001b[0;32m   6233\u001b[0m     results \u001b[38;5;241m=\u001b[39m [\n\u001b[0;32m   6234\u001b[0m         \u001b[38;5;28mself\u001b[39m\u001b[38;5;241m.\u001b[39miloc[:, i]\u001b[38;5;241m.\u001b[39mastype(dtype, copy\u001b[38;5;241m=\u001b[39mcopy)\n\u001b[0;32m   6235\u001b[0m         \u001b[38;5;28;01mfor\u001b[39;00m i \u001b[38;5;129;01min\u001b[39;00m \u001b[38;5;28mrange\u001b[39m(\u001b[38;5;28mlen\u001b[39m(\u001b[38;5;28mself\u001b[39m\u001b[38;5;241m.\u001b[39mcolumns))\n\u001b[0;32m   6236\u001b[0m     ]\n\u001b[0;32m   6238\u001b[0m \u001b[38;5;28;01melse\u001b[39;00m:\n\u001b[0;32m   6239\u001b[0m     \u001b[38;5;66;03m# else, only a single dtype is given\u001b[39;00m\n\u001b[1;32m-> 6240\u001b[0m     new_data \u001b[38;5;241m=\u001b[39m \u001b[38;5;28;43mself\u001b[39;49m\u001b[38;5;241;43m.\u001b[39;49m\u001b[43m_mgr\u001b[49m\u001b[38;5;241;43m.\u001b[39;49m\u001b[43mastype\u001b[49m\u001b[43m(\u001b[49m\u001b[43mdtype\u001b[49m\u001b[38;5;241;43m=\u001b[39;49m\u001b[43mdtype\u001b[49m\u001b[43m,\u001b[49m\u001b[43m \u001b[49m\u001b[43mcopy\u001b[49m\u001b[38;5;241;43m=\u001b[39;49m\u001b[43mcopy\u001b[49m\u001b[43m,\u001b[49m\u001b[43m \u001b[49m\u001b[43merrors\u001b[49m\u001b[38;5;241;43m=\u001b[39;49m\u001b[43merrors\u001b[49m\u001b[43m)\u001b[49m\n\u001b[0;32m   6241\u001b[0m     \u001b[38;5;28;01mreturn\u001b[39;00m \u001b[38;5;28mself\u001b[39m\u001b[38;5;241m.\u001b[39m_constructor(new_data)\u001b[38;5;241m.\u001b[39m__finalize__(\u001b[38;5;28mself\u001b[39m, method\u001b[38;5;241m=\u001b[39m\u001b[38;5;124m\"\u001b[39m\u001b[38;5;124mastype\u001b[39m\u001b[38;5;124m\"\u001b[39m)\n\u001b[0;32m   6243\u001b[0m \u001b[38;5;66;03m# GH 33113: handle empty frame or series\u001b[39;00m\n",
      "File \u001b[1;32mc:\\Users\\ekbal\\AppData\\Local\\Programs\\Python\\Python310\\lib\\site-packages\\pandas\\core\\internals\\managers.py:445\u001b[0m, in \u001b[0;36mBaseBlockManager.astype\u001b[1;34m(self, dtype, copy, errors)\u001b[0m\n\u001b[0;32m    444\u001b[0m \u001b[38;5;28;01mdef\u001b[39;00m \u001b[38;5;21mastype\u001b[39m(\u001b[38;5;28mself\u001b[39m: T, dtype, copy: \u001b[38;5;28mbool\u001b[39m \u001b[38;5;241m=\u001b[39m \u001b[38;5;28;01mFalse\u001b[39;00m, errors: \u001b[38;5;28mstr\u001b[39m \u001b[38;5;241m=\u001b[39m \u001b[38;5;124m\"\u001b[39m\u001b[38;5;124mraise\u001b[39m\u001b[38;5;124m\"\u001b[39m) \u001b[38;5;241m-\u001b[39m\u001b[38;5;241m>\u001b[39m T:\n\u001b[1;32m--> 445\u001b[0m     \u001b[38;5;28;01mreturn\u001b[39;00m \u001b[38;5;28;43mself\u001b[39;49m\u001b[38;5;241;43m.\u001b[39;49m\u001b[43mapply\u001b[49m\u001b[43m(\u001b[49m\u001b[38;5;124;43m\"\u001b[39;49m\u001b[38;5;124;43mastype\u001b[39;49m\u001b[38;5;124;43m\"\u001b[39;49m\u001b[43m,\u001b[49m\u001b[43m \u001b[49m\u001b[43mdtype\u001b[49m\u001b[38;5;241;43m=\u001b[39;49m\u001b[43mdtype\u001b[49m\u001b[43m,\u001b[49m\u001b[43m \u001b[49m\u001b[43mcopy\u001b[49m\u001b[38;5;241;43m=\u001b[39;49m\u001b[43mcopy\u001b[49m\u001b[43m,\u001b[49m\u001b[43m \u001b[49m\u001b[43merrors\u001b[49m\u001b[38;5;241;43m=\u001b[39;49m\u001b[43merrors\u001b[49m\u001b[43m)\u001b[49m\n",
      "File \u001b[1;32mc:\\Users\\ekbal\\AppData\\Local\\Programs\\Python\\Python310\\lib\\site-packages\\pandas\\core\\internals\\managers.py:347\u001b[0m, in \u001b[0;36mBaseBlockManager.apply\u001b[1;34m(self, f, align_keys, ignore_failures, **kwargs)\u001b[0m\n\u001b[0;32m    345\u001b[0m         applied \u001b[38;5;241m=\u001b[39m b\u001b[38;5;241m.\u001b[39mapply(f, \u001b[38;5;241m*\u001b[39m\u001b[38;5;241m*\u001b[39mkwargs)\n\u001b[0;32m    346\u001b[0m     \u001b[38;5;28;01melse\u001b[39;00m:\n\u001b[1;32m--> 347\u001b[0m         applied \u001b[38;5;241m=\u001b[39m \u001b[38;5;28mgetattr\u001b[39m(b, f)(\u001b[38;5;241m*\u001b[39m\u001b[38;5;241m*\u001b[39mkwargs)\n\u001b[0;32m    348\u001b[0m \u001b[38;5;28;01mexcept\u001b[39;00m (\u001b[38;5;167;01mTypeError\u001b[39;00m, \u001b[38;5;167;01mNotImplementedError\u001b[39;00m):\n\u001b[0;32m    349\u001b[0m     \u001b[38;5;28;01mif\u001b[39;00m \u001b[38;5;129;01mnot\u001b[39;00m ignore_failures:\n",
      "File \u001b[1;32mc:\\Users\\ekbal\\AppData\\Local\\Programs\\Python\\Python310\\lib\\site-packages\\pandas\\core\\internals\\blocks.py:526\u001b[0m, in \u001b[0;36mBlock.astype\u001b[1;34m(self, dtype, copy, errors)\u001b[0m\n\u001b[0;32m    508\u001b[0m \u001b[38;5;250m\u001b[39m\u001b[38;5;124;03m\"\"\"\u001b[39;00m\n\u001b[0;32m    509\u001b[0m \u001b[38;5;124;03mCoerce to the new dtype.\u001b[39;00m\n\u001b[0;32m    510\u001b[0m \n\u001b[1;32m   (...)\u001b[0m\n\u001b[0;32m    522\u001b[0m \u001b[38;5;124;03mBlock\u001b[39;00m\n\u001b[0;32m    523\u001b[0m \u001b[38;5;124;03m\"\"\"\u001b[39;00m\n\u001b[0;32m    524\u001b[0m values \u001b[38;5;241m=\u001b[39m \u001b[38;5;28mself\u001b[39m\u001b[38;5;241m.\u001b[39mvalues\n\u001b[1;32m--> 526\u001b[0m new_values \u001b[38;5;241m=\u001b[39m \u001b[43mastype_array_safe\u001b[49m\u001b[43m(\u001b[49m\u001b[43mvalues\u001b[49m\u001b[43m,\u001b[49m\u001b[43m \u001b[49m\u001b[43mdtype\u001b[49m\u001b[43m,\u001b[49m\u001b[43m \u001b[49m\u001b[43mcopy\u001b[49m\u001b[38;5;241;43m=\u001b[39;49m\u001b[43mcopy\u001b[49m\u001b[43m,\u001b[49m\u001b[43m \u001b[49m\u001b[43merrors\u001b[49m\u001b[38;5;241;43m=\u001b[39;49m\u001b[43merrors\u001b[49m\u001b[43m)\u001b[49m\n\u001b[0;32m    528\u001b[0m new_values \u001b[38;5;241m=\u001b[39m maybe_coerce_values(new_values)\n\u001b[0;32m    529\u001b[0m newb \u001b[38;5;241m=\u001b[39m \u001b[38;5;28mself\u001b[39m\u001b[38;5;241m.\u001b[39mmake_block(new_values)\n",
      "File \u001b[1;32mc:\\Users\\ekbal\\AppData\\Local\\Programs\\Python\\Python310\\lib\\site-packages\\pandas\\core\\dtypes\\astype.py:299\u001b[0m, in \u001b[0;36mastype_array_safe\u001b[1;34m(values, dtype, copy, errors)\u001b[0m\n\u001b[0;32m    296\u001b[0m     \u001b[38;5;28;01mreturn\u001b[39;00m values\u001b[38;5;241m.\u001b[39mcopy()\n\u001b[0;32m    298\u001b[0m \u001b[38;5;28;01mtry\u001b[39;00m:\n\u001b[1;32m--> 299\u001b[0m     new_values \u001b[38;5;241m=\u001b[39m \u001b[43mastype_array\u001b[49m\u001b[43m(\u001b[49m\u001b[43mvalues\u001b[49m\u001b[43m,\u001b[49m\u001b[43m \u001b[49m\u001b[43mdtype\u001b[49m\u001b[43m,\u001b[49m\u001b[43m \u001b[49m\u001b[43mcopy\u001b[49m\u001b[38;5;241;43m=\u001b[39;49m\u001b[43mcopy\u001b[49m\u001b[43m)\u001b[49m\n\u001b[0;32m    300\u001b[0m \u001b[38;5;28;01mexcept\u001b[39;00m (\u001b[38;5;167;01mValueError\u001b[39;00m, \u001b[38;5;167;01mTypeError\u001b[39;00m):\n\u001b[0;32m    301\u001b[0m     \u001b[38;5;66;03m# e.g. astype_nansafe can fail on object-dtype of strings\u001b[39;00m\n\u001b[0;32m    302\u001b[0m     \u001b[38;5;66;03m#  trying to convert to float\u001b[39;00m\n\u001b[0;32m    303\u001b[0m     \u001b[38;5;28;01mif\u001b[39;00m errors \u001b[38;5;241m==\u001b[39m \u001b[38;5;124m\"\u001b[39m\u001b[38;5;124mignore\u001b[39m\u001b[38;5;124m\"\u001b[39m:\n",
      "File \u001b[1;32mc:\\Users\\ekbal\\AppData\\Local\\Programs\\Python\\Python310\\lib\\site-packages\\pandas\\core\\dtypes\\astype.py:230\u001b[0m, in \u001b[0;36mastype_array\u001b[1;34m(values, dtype, copy)\u001b[0m\n\u001b[0;32m    227\u001b[0m     values \u001b[38;5;241m=\u001b[39m values\u001b[38;5;241m.\u001b[39mastype(dtype, copy\u001b[38;5;241m=\u001b[39mcopy)\n\u001b[0;32m    229\u001b[0m \u001b[38;5;28;01melse\u001b[39;00m:\n\u001b[1;32m--> 230\u001b[0m     values \u001b[38;5;241m=\u001b[39m \u001b[43mastype_nansafe\u001b[49m\u001b[43m(\u001b[49m\u001b[43mvalues\u001b[49m\u001b[43m,\u001b[49m\u001b[43m \u001b[49m\u001b[43mdtype\u001b[49m\u001b[43m,\u001b[49m\u001b[43m \u001b[49m\u001b[43mcopy\u001b[49m\u001b[38;5;241;43m=\u001b[39;49m\u001b[43mcopy\u001b[49m\u001b[43m)\u001b[49m\n\u001b[0;32m    232\u001b[0m \u001b[38;5;66;03m# in pandas we don't store numpy str dtypes, so convert to object\u001b[39;00m\n\u001b[0;32m    233\u001b[0m \u001b[38;5;28;01mif\u001b[39;00m \u001b[38;5;28misinstance\u001b[39m(dtype, np\u001b[38;5;241m.\u001b[39mdtype) \u001b[38;5;129;01mand\u001b[39;00m \u001b[38;5;28missubclass\u001b[39m(values\u001b[38;5;241m.\u001b[39mdtype\u001b[38;5;241m.\u001b[39mtype, \u001b[38;5;28mstr\u001b[39m):\n",
      "File \u001b[1;32mc:\\Users\\ekbal\\AppData\\Local\\Programs\\Python\\Python310\\lib\\site-packages\\pandas\\core\\dtypes\\astype.py:170\u001b[0m, in \u001b[0;36mastype_nansafe\u001b[1;34m(arr, dtype, copy, skipna)\u001b[0m\n\u001b[0;32m    166\u001b[0m     \u001b[38;5;28;01mraise\u001b[39;00m \u001b[38;5;167;01mValueError\u001b[39;00m(msg)\n\u001b[0;32m    168\u001b[0m \u001b[38;5;28;01mif\u001b[39;00m copy \u001b[38;5;129;01mor\u001b[39;00m is_object_dtype(arr\u001b[38;5;241m.\u001b[39mdtype) \u001b[38;5;129;01mor\u001b[39;00m is_object_dtype(dtype):\n\u001b[0;32m    169\u001b[0m     \u001b[38;5;66;03m# Explicit copy, or required since NumPy can't view from / to object.\u001b[39;00m\n\u001b[1;32m--> 170\u001b[0m     \u001b[38;5;28;01mreturn\u001b[39;00m \u001b[43marr\u001b[49m\u001b[38;5;241;43m.\u001b[39;49m\u001b[43mastype\u001b[49m\u001b[43m(\u001b[49m\u001b[43mdtype\u001b[49m\u001b[43m,\u001b[49m\u001b[43m \u001b[49m\u001b[43mcopy\u001b[49m\u001b[38;5;241;43m=\u001b[39;49m\u001b[38;5;28;43;01mTrue\u001b[39;49;00m\u001b[43m)\u001b[49m\n\u001b[0;32m    172\u001b[0m \u001b[38;5;28;01mreturn\u001b[39;00m arr\u001b[38;5;241m.\u001b[39mastype(dtype, copy\u001b[38;5;241m=\u001b[39mcopy)\n",
      "\u001b[1;31mValueError\u001b[0m: could not convert string to float: 'test'"
     ]
    }
   ],
   "source": [
    "# Extracting minimum temperature values\n",
    "ta_min = df[df['ParameterName'] == 'TA_PT1H_MIN']\n",
    "minparameter_values = ta_min['ParameterValue'].astype(float).to_numpy()\n",
    "\n",
    "# Extracting maximum temperature values\n",
    "ta_max = df[df['ParameterName'] == 'TA_PT1H_MAX']\n",
    "maxparameter_values = ta_max['ParameterValue'].astype(float).to_numpy()\n",
    "\n",
    "# Extracting average temperature values\n",
    "ta_avg = df[df['ParameterName'] == 'TA_PT1H_AVG']\n",
    "avgparameter_values = ta_avg['ParameterValue'].astype(float).to_numpy()\n",
    "\n",
    "# Extracting average relative humidity values\n",
    "rh_avg = df[df['ParameterName'] == 'RH_PT1H_AVG']\n",
    "rh_avg_values = rh_avg['ParameterValue'].astype(float).to_numpy()\n",
    "\n",
    "# Extracting average wind speed values\n",
    "ws_avg = df[df['ParameterName'] == 'WS_PT1H_AVG']\n",
    "ws_avg_values = ws_avg['ParameterValue'].astype(float).to_numpy()\n",
    "\n",
    "# Extracting maximum wind speed values\n",
    "ws_max = df[df['ParameterName'] == 'WS_PT1H_MAX']\n",
    "ws_max_values = ws_max['ParameterValue'].astype(float).to_numpy()\n",
    "\n",
    "# Extracting minimum wind speed values\n",
    "ws_min = df[df['ParameterName'] == 'WS_PT1H_MIN']\n",
    "ws_min_values = ws_min['ParameterValue'].astype(float).to_numpy()\n",
    "\n",
    "# Extracting average wind direction values\n",
    "wd_avg = df[df['ParameterName'] == 'WD_PT1H_AVG']\n",
    "wd_avg_values = wd_avg['ParameterValue'].astype(float).to_numpy()\n",
    "\n",
    "# Extracting precipitation accumulation values\n",
    "pra_acc = df[df['ParameterName'] == 'PRA_PT1H_ACC']\n",
    "pra_acc_values = pra_acc['ParameterValue'].astype(float).to_numpy()\n",
    "\n",
    "# Extracting maximum precipitation intensity values\n",
    "pri_max = df[df['ParameterName'] == 'PRI_PT1H_MAX']\n",
    "pri_max_values = pri_max['ParameterValue'].astype(float).to_numpy()\n",
    "\n",
    "# Extracting average precipitation values\n",
    "pa_avg = df[df['ParameterName'] == 'PA_PT1H_AVG']\n",
    "pa_avg_values = pa_avg['ParameterValue'].astype(float).to_numpy()\n",
    "\n",
    "# Extracting weather warning rank values\n",
    "wawa_rank = df[df['ParameterName'] == 'WAWA_PT1H_RANK']\n",
    "wawa_rank_values = wawa_rank['ParameterValue'].astype(float).to_numpy()\n"
   ]
  },
  {
   "cell_type": "code",
   "execution_count": null,
   "metadata": {},
   "outputs": [
    {
     "data": {
      "text/plain": [
       "(array([  4.,   7.,  19.,  70., 140., 124., 131., 105.,  57.,  40.]),\n",
       " array([-8. , -6.2, -4.4, -2.6, -0.8,  1. ,  2.8,  4.6,  6.4,  8.2, 10. ]),\n",
       " <BarContainer object of 10 artists>)"
      ]
     },
     "execution_count": 293,
     "metadata": {},
     "output_type": "execute_result"
    },
    {
     "data": {
      "image/png": "[encoded data removed]",
      "text/plain": [
       "<Figure size 640x480 with 3 Axes>"
      ]
     },
     "metadata": {},
     "output_type": "display_data"
    }
   ],
   "source": [
    "fig, axd = plt.subplot_mosaic([['min', 'avg'],\n",
    "                               ['max', 'avg']], layout='constrained')\n",
    "axd['min'].set_title('Temperature min')\n",
    "axd['max'].set_title('Temperature max')\n",
    "axd['avg'].set_title('Temperature avg')\n",
    "\n",
    "axd['min'].hist(minparameter_values.astype(int))\n",
    "axd['max'].hist(maxparameter_values.astype(int))\n",
    "axd['avg'].hist(avgparameter_values.astype(int))"
   ]
  },
  {
   "cell_type": "code",
   "execution_count": 19,
   "metadata": {},
   "outputs": [
    {
     "ename": "NameError",
     "evalue": "name 'rh_avg_values' is not defined",
     "output_type": "error",
     "traceback": [
      "\u001b[1;31m---------------------------------------------------------------------------\u001b[0m",
      "\u001b[1;31mNameError\u001b[0m                                 Traceback (most recent call last)",
      "Cell \u001b[1;32mIn[19], line 4\u001b[0m\n\u001b[0;32m      1\u001b[0m fig, axd_rh \u001b[38;5;241m=\u001b[39m plt\u001b[38;5;241m.\u001b[39msubplot_mosaic([[\u001b[38;5;124m'\u001b[39m\u001b[38;5;124mavg\u001b[39m\u001b[38;5;124m'\u001b[39m]], layout\u001b[38;5;241m=\u001b[39m\u001b[38;5;124m'\u001b[39m\u001b[38;5;124mconstrained\u001b[39m\u001b[38;5;124m'\u001b[39m)\n\u001b[0;32m      3\u001b[0m axd_rh[\u001b[38;5;124m'\u001b[39m\u001b[38;5;124mavg\u001b[39m\u001b[38;5;124m'\u001b[39m]\u001b[38;5;241m.\u001b[39mset_title(\u001b[38;5;124m'\u001b[39m\u001b[38;5;124mRelative Humidity avg\u001b[39m\u001b[38;5;124m'\u001b[39m)\n\u001b[1;32m----> 4\u001b[0m axd_rh[\u001b[38;5;124m'\u001b[39m\u001b[38;5;124mavg\u001b[39m\u001b[38;5;124m'\u001b[39m]\u001b[38;5;241m.\u001b[39mhist(\u001b[43mrh_avg_values\u001b[49m\u001b[38;5;241m.\u001b[39mastype(\u001b[38;5;28mint\u001b[39m))\n",
      "\u001b[1;31mNameError\u001b[0m: name 'rh_avg_values' is not defined"
     ]
    },
    {
     "data": {
      "image/png": "[encoded data removed]",
      "text/plain": [
       "<Figure size 640x480 with 1 Axes>"
      ]
     },
     "metadata": {},
     "output_type": "display_data"
    }
   ],
   "source": [
    "fig, axd_rh = plt.subplot_mosaic([['avg']], layout='constrained')\n",
    "\n",
    "axd_rh['avg'].set_title('Relative Humidity avg')\n",
    "axd_rh['avg'].hist(rh_avg_values.astype(int))"
   ]
  },
  {
   "cell_type": "markdown",
   "metadata": {},
   "source": [
    "### Apologies for the incomplete matplotlib visualization. Unfortunately, due to time constraints and the pressure of mid-term deadlines, I couldn't devote as much attention to it as I would have liked. Given more time and freedom from these current obligations, I am confident I could produce a more polished and comprehensive result. Appreciate your understanding. \n"
   ]
  }
 ],
 "metadata": {
  "kernelspec": {
   "display_name": "Python 3",
   "language": "python",
   "name": "python3"
  },
  "language_info": {
   "codemirror_mode": {
    "name": "ipython",
    "version": 3
   },
   "file_extension": ".py",
   "mimetype": "text/x-python",
   "name": "python",
   "nbconvert_exporter": "python",
   "pygments_lexer": "ipython3",
   "version": "3.10.6"
  }
 },
 "nbformat": 4,
 "nbformat_minor": 2
}
